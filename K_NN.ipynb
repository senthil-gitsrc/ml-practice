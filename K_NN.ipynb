{
  "nbformat": 4,
  "nbformat_minor": 0,
  "metadata": {
    "colab": {
      "provenance": []
    },
    "kernelspec": {
      "name": "python3",
      "display_name": "Python 3"
    },
    "language_info": {
      "name": "python"
    }
  },
  "cells": [
    {
      "cell_type": "code",
      "execution_count": 12,
      "metadata": {
        "id": "JrOnPQaY-NVg",
        "colab": {
          "base_uri": "https://localhost:8080/"
        },
        "outputId": "2b845d01-f5ad-445c-f3ab-32c9e01df7af"
      },
      "outputs": [
        {
          "output_type": "stream",
          "name": "stdout",
          "text": [
            "Accuracy_KNN 1.0\n"
          ]
        }
      ],
      "source": [
        "from sklearn.neighbors import KNeighborsClassifier\n",
        "from sklearn.model_selection import train_test_split\n",
        "from sklearn.datasets import load_iris\n",
        "\n",
        "# Loading Data\n",
        "irisData = load_iris()\n",
        "\n",
        "x = irisData.data\n",
        "y = irisData.target\n",
        "\n",
        "x_train, x_test, y_train, y_test = train_test_split(x, y, test_size = 0.2, random_state = 120)\n",
        "\n",
        "KNN = KNeighborsClassifier(n_neighbors=5)\n",
        "\n",
        "KNN.fit(x_train, y_train)\n",
        "\n",
        "print(\"Accuracy_KNN\" , KNN.score(x_test, y_test))"
      ]
    }
  ]
}