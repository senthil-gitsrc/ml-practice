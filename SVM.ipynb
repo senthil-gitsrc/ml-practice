{
  "nbformat": 4,
  "nbformat_minor": 0,
  "metadata": {
    "colab": {
      "provenance": [],
      "toc_visible": true
    },
    "kernelspec": {
      "name": "python3",
      "display_name": "Python 3"
    },
    "language_info": {
      "name": "python"
    }
  },
  "cells": [
    {
      "cell_type": "code",
      "execution_count": null,
      "metadata": {
        "id": "N8dh6jTQX8dS"
      },
      "outputs": [],
      "source": []
    },
    {
      "cell_type": "code",
      "source": [
        "import pandas as pd\n",
        "import numpy as np\n",
        "\n",
        "# the cancer dataset is to be imported from the scikit learn dataset lib\n",
        "# import scikit datset lib\n",
        "from sklearn import datasets\n",
        "# import cancer datasets\n",
        "cancer = datasets.load_breast_cancer()\n",
        "\n",
        "# import train_test_split function\n",
        "from sklearn.model_selection import train_test_split\n",
        "\n",
        "# split dataset into train and test (0.2 - test is 20% test and 80% train)\n",
        "X_train, X_test, y_train, y_test = train_test_split(cancer.data, cancer.target, test_size = 0.2, random_state=109)\n",
        "\n",
        "# import SVM model\n",
        "from sklearn import svm\n",
        "\n",
        "# create SVM classifier\n",
        "\n",
        "clf =  svm.SVC(kernel = 'linear') #liner kernel\n",
        "# there are various types of functions such as liner, polynomial, and radial basis function(RBF)\n",
        "# polynomial and RBF are useful for non-linear hyperplane\n",
        "\n",
        "# train the model using the training sets\n",
        "clf.fit(X_train, y_train)\n",
        "\n",
        "# Predict the response for test dataset.\n",
        "y_pred = clf.predict(X_test)\n",
        "\n",
        "# Import sciket-learn metrics module for accuracy calculation\n",
        "from sklearn import metrics\n",
        "\n",
        "# model Accuracy: how often is the classifier correct?\n",
        "print(\"Accuracy: \", metrics.accuracy_score(y_test, y_pred))\n",
        "\n",
        "\n"
      ],
      "metadata": {
        "colab": {
          "base_uri": "https://localhost:8080/"
        },
        "id": "FjCoszy9YNEB",
        "outputId": "1477fb44-a07f-4734-8ebb-21ff9c5cc53e"
      },
      "execution_count": 7,
      "outputs": [
        {
          "output_type": "stream",
          "name": "stdout",
          "text": [
            "Accuracy:  0.956140350877193\n"
          ]
        }
      ]
    }
  ]
}