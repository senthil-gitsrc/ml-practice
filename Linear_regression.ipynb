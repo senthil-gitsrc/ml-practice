{
  "nbformat": 4,
  "nbformat_minor": 0,
  "metadata": {
    "colab": {
      "provenance": []
    },
    "kernelspec": {
      "name": "python3",
      "display_name": "Python 3"
    },
    "language_info": {
      "name": "python"
    }
  },
  "cells": [
    {
      "cell_type": "code",
      "execution_count": 23,
      "metadata": {
        "id": "rp-Ttm1TY_s7",
        "colab": {
          "base_uri": "https://localhost:8080/"
        },
        "outputId": "80e97daa-f685-44d6-8d92-e9f46c6d62d4"
      },
      "outputs": [
        {
          "output_type": "stream",
          "name": "stdout",
          "text": [
            "const   -199956.496258\n",
            "Marks      3246.776666\n",
            "dtype: float64\n"
          ]
        }
      ],
      "source": [
        "import pandas as pd\n",
        "import numpy as np\n",
        "import statsmodels.api as sms\n",
        "from sklearn.model_selection import train_test_split\n",
        "\n",
        "np.set_printoptions(precision=5, linewidth=120)\n",
        "\n",
        "GPA_Sal_df = pd.read_csv('data_reg.csv')\n",
        "\n",
        "# OLS - Ordinary Least Square is an API made available in the statsmodel library.\n",
        "# OLS is used for estimation of parameters for the regression.\n",
        "# OLS is not completely capable. It can only estimate coefficient for X.\n",
        "# Y = b0 + b1*X\n",
        "# So, what happens to Y?? so we need b0 to be evaluated. we need to add constant 1 as another column in the dataset.\n",
        "# An intercept is not added by default and should be added by the user.\n",
        "\n",
        "X = sms.add_constant(GPA_Sal_df['Marks'])\n",
        "Y = GPA_Sal_df['Salary']\n",
        "\n",
        "# The split happens here. Training and Testing dataset. random_state : seed happens here ?????\n",
        "\n",
        "train_X, test_X, train_Y, test_Y = train_test_split(X, Y, train_size=0.8, random_state=95)\n",
        "\n",
        "# OLS comes to picture, the fit() does the complete estimate and moves the result to variable\n",
        "the_salary_lm = sms.OLS(train_Y, train_X).fit()\n",
        "\n",
        "print(the_salary_lm.params)\n",
        "#Thats it!\n",
        "# Now from the result it is to be understood that - for every one percent of marks increase the salary raise by 3246.77"
      ]
    }
  ]
}