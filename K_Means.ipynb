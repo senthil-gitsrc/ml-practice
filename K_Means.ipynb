{
  "nbformat": 4,
  "nbformat_minor": 0,
  "metadata": {
    "colab": {
      "provenance": [],
      "toc_visible": true
    },
    "kernelspec": {
      "name": "python3",
      "display_name": "Python 3"
    },
    "language_info": {
      "name": "python"
    }
  },
  "cells": [
    {
      "cell_type": "code",
      "execution_count": 35,
      "metadata": {
        "colab": {
          "base_uri": "https://localhost:8080/"
        },
        "id": "IE6e2LFiiJ6d",
        "outputId": "3dd10624-848e-4890-9c2e-d777529048c2"
      },
      "outputs": [
        {
          "output_type": "stream",
          "name": "stderr",
          "text": [
            "<ipython-input-35-10a43cb09542>:14: FutureWarning: The default value of numeric_only in DataFrame.mean is deprecated. In a future version, it will default to False. In addition, specifying 'numeric_only=None' is deprecated. Select only valid columns or specify the value of numeric_only to silence this warning.\n",
            "  train.fillna(train.mean(), inplace=True)\n",
            "<ipython-input-35-10a43cb09542>:15: FutureWarning: The default value of numeric_only in DataFrame.mean is deprecated. In a future version, it will default to False. In addition, specifying 'numeric_only=None' is deprecated. Select only valid columns or specify the value of numeric_only to silence this warning.\n",
            "  test.fillna(test.mean(), inplace=True)\n",
            "<ipython-input-35-10a43cb09542>:28: FutureWarning: In a future version of pandas all arguments of DataFrame.drop except for the argument 'labels' will be keyword-only.\n",
            "  X = np.array(train.drop(['Survived'], 1).astype(int))\n",
            "/usr/local/lib/python3.10/dist-packages/sklearn/cluster/_kmeans.py:870: FutureWarning: The default value of `n_init` will change from 10 to 'auto' in 1.4. Set the value of `n_init` explicitly to suppress the warning\n",
            "  warnings.warn(\n"
          ]
        },
        {
          "output_type": "stream",
          "name": "stdout",
          "text": [
            "0.49158249158249157\n"
          ]
        }
      ],
      "source": [
        "import pandas as pd\n",
        "import numpy as np\n",
        "from sklearn.cluster import KMeans\n",
        "from sklearn.preprocessing import LabelEncoder\n",
        "from sklearn.preprocessing import MinMaxScaler\n",
        "import seaborn as sns\n",
        "import matplotlib.pyplot as plt\n",
        "%matplotlib inline\n",
        "\n",
        "\n",
        "train = pd.read_csv('/content/train.csv')\n",
        "test = pd.read_csv('/content/test.csv')\n",
        "\n",
        "train.fillna(train.mean(), inplace=True)\n",
        "test.fillna(test.mean(), inplace=True)\n",
        "\n",
        "train = train.drop(['Name', 'Ticket', 'Cabin', 'Embarked'], axis=1)\n",
        "test = test.drop(['Name', 'Ticket', 'Cabin', 'Embarked'], axis=1)\n",
        "\n",
        "\n",
        "labelEncoder = LabelEncoder()\n",
        "labelEncoder.fit(train['Sex'])\n",
        "labelEncoder.fit(test['Sex'])\n",
        "\n",
        "train['Sex'] = labelEncoder.transform(train['Sex'])\n",
        "test['Sex'] = labelEncoder.transform(test['Sex'])\n",
        "\n",
        "X = np.array(train.drop(['Survived'], 1).astype(int))\n",
        "y = np.array(train['Survived'])\n",
        "\n",
        "kmeans = KMeans(n_clusters=2)\n",
        "kmeans.fit(X)\n",
        "\n",
        "KMeans(algorithm='auto', copy_x=True, init='k-means++', max_iter=300, n_clusters=2, n_init=10, random_state=None, tol=0.0001, verbose=0)\n",
        "\n",
        "correct = 0\n",
        "\n",
        "for i in range(len(X)):\n",
        "  predict_me = np.array(X[i].astype(float))\n",
        "  predict_me = predict_me.reshape(-1, len(predict_me))\n",
        "  prediction = kmeans.predict(predict_me)\n",
        "  if prediction[0] == y[i]:\n",
        "    correct += 1\n",
        "\n",
        "print(correct/len(X))\n",
        "\n",
        "\n",
        "\n",
        "\n"
      ]
    }
  ]
}